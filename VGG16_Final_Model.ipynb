{
 "cells": [
  {
   "cell_type": "code",
   "execution_count": 1,
   "metadata": {
    "colab": {
     "base_uri": "https://localhost:8080/"
    },
    "id": "KR5NKBMY8evE",
    "outputId": "12ad5af1-727a-48ff-e174-77125e790007"
   },
   "outputs": [
    {
     "name": "stdout",
     "output_type": "stream",
     "text": [
      "Drive already mounted at /content/drive; to attempt to forcibly remount, call drive.mount(\"/content/drive\", force_remount=True).\n"
     ]
    }
   ],
   "source": [
    "from google.colab import drive\n",
    "drive.mount('/content/drive')"
   ]
  },
  {
   "cell_type": "code",
   "execution_count": 2,
   "metadata": {
    "id": "NvmjpJOAoQkE"
   },
   "outputs": [],
   "source": [
    "import pandas as pd\n",
    "import numpy as np\n",
    "from sklearn.dummy import DummyClassifier\n",
    "from google.colab import files\n",
    "import pandas as pd\n",
    "import io\n",
    "from keras.preprocessing.image import img_to_array, load_img, ImageDataGenerator\n",
    "from google.colab import drive\n",
    "import json\n",
    "from tensorflow import keras\n",
    "import tensorflow as tf\n",
    "\n",
    "import matplotlib.pyplot as plt\n",
    "import seaborn as sns\n",
    "import matplotlib.image as mpimg\n",
    "import random\n",
    "import tensorflow as tf\n",
    "import cv2\n",
    "from mpl_toolkits.mplot3d import Axes3D\n",
    "from matplotlib import cm\n",
    "from matplotlib import colors\n",
    "from sklearn.model_selection import train_test_split\n",
    "import re\n",
    "from functools import partial\n",
    "import keras\n",
    "from keras.layers import Dense, Dropout, Input, MaxPooling2D, ZeroPadding2D, Conv2D, Flatten, BatchNormalization\n",
    "from keras.models import Sequential, Model\n",
    "from keras.losses import categorical_crossentropy\n",
    "from tensorflow.keras.optimizers import Adam, SGD\n",
    "from keras.preprocessing.image import img_to_array, load_img, ImageDataGenerator\n",
    "from tensorflow.keras.utils import to_categorical\n",
    "from tensorflow.keras import regularizers\n",
    "\n",
    "from tensorflow.keras.layers import MaxPool2D, AveragePooling2D, GlobalAveragePooling2D\n",
    "import numpy as np\n",
    "import pandas as pd\n",
    "from sklearn.model_selection import train_test_split\n",
    "\n",
    "import matplotlib.pyplot as plt\n",
    "from mpl_toolkits.axes_grid1 import ImageGrid\n",
    "\n",
    "from zipfile import ZipFile\n",
    "import time\n",
    "from datetime import timedelta\n",
    "from io import BytesIO\n",
    "\n",
    "# Image manipulation.\n",
    "import PIL.Image\n",
    "\n",
    "import pickle\n",
    "import os\n",
    "\n",
    "import random\n",
    "from keras.callbacks import ReduceLROnPlateau\n",
    "\n",
    "import matplotlib.pyplot as plt\n",
    "import numpy as np"
   ]
  },
  {
   "cell_type": "code",
   "execution_count": 3,
   "metadata": {
    "colab": {
     "base_uri": "https://localhost:8080/"
    },
    "id": "FFboQyeQoVvd",
    "outputId": "c1ca168f-fa45-4ad6-b8a5-e95a042d2fac"
   },
   "outputs": [
    {
     "data": {
      "text/plain": [
       "{'0': 'Cassava Bacterial Blight (CBB)',\n",
       " '1': 'Cassava Brown Streak Disease (CBSD)',\n",
       " '2': 'Cassava Green Mottle (CGM)',\n",
       " '3': 'Cassava Mosaic Disease (CMD)',\n",
       " '4': 'Healthy'}"
      ]
     },
     "execution_count": 3,
     "metadata": {},
     "output_type": "execute_result"
    }
   ],
   "source": [
    "f = open('/content/drive/MyDrive/cassava-leaf-disease-classification/cassava-leaf-disease-classification/label_num_to_disease_map.json')\n",
    "label_name = json.load(f)\n",
    "label_name"
   ]
  },
  {
   "cell_type": "code",
   "execution_count": 4,
   "metadata": {
    "colab": {
     "base_uri": "https://localhost:8080/"
    },
    "id": "YuL3N3qCoeFX",
    "outputId": "b5839d0b-0651-47b4-f1e2-a2f9f29f0ef6"
   },
   "outputs": [
    {
     "name": "stdout",
     "output_type": "stream",
     "text": [
      "Number of replicas: 1\n"
     ]
    }
   ],
   "source": [
    "try:\n",
    "    tpu = tf.distribute.cluster_resolver.TPUClusterResolver()\n",
    "    print('Device:', tpu.master())\n",
    "    tf.config.experimental_connect_to_cluster(tpu)\n",
    "    tf.tpu.experimental.initialize_tpu_system(tpu)\n",
    "    strategy = tf.distribute.experimental.TPUStrategy(tpu)\n",
    "except:\n",
    "    strategy = tf.distribute.get_strategy()\n",
    "print('Number of replicas:', strategy.num_replicas_in_sync)"
   ]
  },
  {
   "cell_type": "code",
   "execution_count": 5,
   "metadata": {
    "colab": {
     "base_uri": "https://localhost:8080/"
    },
    "id": "wuNY7OpCpDsH",
    "outputId": "1d07cb53-2453-42da-a4c4-ee70dbc8fd6d"
   },
   "outputs": [
    {
     "data": {
      "text/plain": [
       "16"
      ]
     },
     "execution_count": 5,
     "metadata": {},
     "output_type": "execute_result"
    }
   ],
   "source": [
    "AUTOTUNE = tf.data.experimental.AUTOTUNE\n",
    "Batch_Size = 16 * strategy.num_replicas_in_sync\n",
    "Batch_Size "
   ]
  },
  {
   "cell_type": "code",
   "execution_count": 6,
   "metadata": {
    "id": "VgHEV5XRpK0h"
   },
   "outputs": [],
   "source": [
    "labels = list(label_name.keys())\n",
    "AUTOTUNE = tf.data.experimental.AUTOTUNE\n",
    "train_path = '/content/drive/MyDrive/cassava-leaf-disease-classification/cassava-leaf-disease-classification/train_tfrecords/ld_train*.tfrec'\n",
    "test_path = '/content/drive/MyDrive/cassava-leaf-disease-classification/cassava-leaf-disease-classification/test_tfrecords/ld_test*.tfrec'\n",
    "Image_Size_Original = [512, 512]\n",
    "image_size = 336"
   ]
  },
  {
   "cell_type": "code",
   "execution_count": 7,
   "metadata": {
    "colab": {
     "base_uri": "https://localhost:8080/"
    },
    "id": "PG7fvO5BpO_h",
    "outputId": "c039763c-cc01-451f-bf10-a71c2018f819"
   },
   "outputs": [
    {
     "name": "stdout",
     "output_type": "stream",
     "text": [
      "['0', '1', '2', '3', '4']\n"
     ]
    }
   ],
   "source": [
    "print(labels)"
   ]
  },
  {
   "cell_type": "code",
   "execution_count": 8,
   "metadata": {
    "id": "NyoLJqoCpbiG"
   },
   "outputs": [],
   "source": [
    "def preprocess_img(img):\n",
    "  img_decode = tf.image.decode_jpeg(img, channels = 3)\n",
    "  img_255 = tf.cast(img_decode, tf.float32)/255.0\n",
    "  img_res = tf.image.resize(img_255, [image_size,image_size])\n",
    "  img_resize = tf.reshape(img_res, [image_size, image_size,3])\n",
    "  return img_resize"
   ]
  },
  {
   "cell_type": "code",
   "execution_count": 9,
   "metadata": {
    "id": "bLLWGJBypfEQ"
   },
   "outputs": [],
   "source": [
    "def read_tfrecord(example, labeled):\n",
    "  tfrecord_format = {\"image\":tf.io.FixedLenFeature([], tf.string),\n",
    "                     \"target\":tf.io.FixedLenFeature([], tf.int64),\n",
    "                     } if labeled else {\n",
    "                     \"image\": tf.io.FixedLenFeature([], tf.string),\n",
    "                     \"image_name\": tf.io.FixedLenFeature([], tf.string)\n",
    "                     }\n",
    "  example = tf.io.parse_single_example(example, tfrecord_format)\n",
    "  \n",
    "  img_res = preprocess_img(example['image'])\n",
    "  \n",
    "  if labeled:\n",
    "    label = tf.cast(example['target'], tf.int32)\n",
    "    return img_res, label\n",
    "  else: \n",
    "    id = example['image_name']\n",
    "    return img_res, id"
   ]
  },
  {
   "cell_type": "code",
   "execution_count": 10,
   "metadata": {
    "id": "VE05Ovlwpj8f"
   },
   "outputs": [],
   "source": [
    "def load_dataset(filenames, labeled=True, ordered=False):\n",
    "    ignore_order = tf.data.Options()\n",
    "    if not ordered:\n",
    "        ignore_order.experimental_deterministic = False # disable order, increase speed\n",
    "    dataset = tf.data.TFRecordDataset(filenames, num_parallel_reads=AUTOTUNE) # automatically interleaves reads from multiple files\n",
    "    dataset = dataset.with_options(ignore_order) # uses data as soon as it streams in, rather than in its original order\n",
    "    dataset = dataset.map(partial(read_tfrecord, labeled=labeled), num_parallel_calls=AUTOTUNE)\n",
    "    return dataset"
   ]
  },
  {
   "cell_type": "code",
   "execution_count": 11,
   "metadata": {
    "colab": {
     "base_uri": "https://localhost:8080/"
    },
    "id": "VDI89KXIpwUm",
    "outputId": "698e5972-b3f3-43de-a080-4abaae2e1a90"
   },
   "outputs": [
    {
     "data": {
      "text/plain": [
       "(['/content/drive/MyDrive/cassava-leaf-disease-classification/cassava-leaf-disease-classification/train_tfrecords/ld_train00-1338.tfrec',\n",
       "  '/content/drive/MyDrive/cassava-leaf-disease-classification/cassava-leaf-disease-classification/train_tfrecords/ld_train01-1338.tfrec',\n",
       "  '/content/drive/MyDrive/cassava-leaf-disease-classification/cassava-leaf-disease-classification/train_tfrecords/ld_train02-1338.tfrec',\n",
       "  '/content/drive/MyDrive/cassava-leaf-disease-classification/cassava-leaf-disease-classification/train_tfrecords/ld_train03-1338.tfrec',\n",
       "  '/content/drive/MyDrive/cassava-leaf-disease-classification/cassava-leaf-disease-classification/train_tfrecords/ld_train04-1338.tfrec',\n",
       "  '/content/drive/MyDrive/cassava-leaf-disease-classification/cassava-leaf-disease-classification/train_tfrecords/ld_train05-1338.tfrec',\n",
       "  '/content/drive/MyDrive/cassava-leaf-disease-classification/cassava-leaf-disease-classification/train_tfrecords/ld_train06-1338.tfrec',\n",
       "  '/content/drive/MyDrive/cassava-leaf-disease-classification/cassava-leaf-disease-classification/train_tfrecords/ld_train07-1338.tfrec',\n",
       "  '/content/drive/MyDrive/cassava-leaf-disease-classification/cassava-leaf-disease-classification/train_tfrecords/ld_train08-1338.tfrec',\n",
       "  '/content/drive/MyDrive/cassava-leaf-disease-classification/cassava-leaf-disease-classification/train_tfrecords/ld_train09-1338.tfrec',\n",
       "  '/content/drive/MyDrive/cassava-leaf-disease-classification/cassava-leaf-disease-classification/train_tfrecords/ld_train10-1338.tfrec',\n",
       "  '/content/drive/MyDrive/cassava-leaf-disease-classification/cassava-leaf-disease-classification/train_tfrecords/ld_train11-1338.tfrec',\n",
       "  '/content/drive/MyDrive/cassava-leaf-disease-classification/cassava-leaf-disease-classification/train_tfrecords/ld_train12-1338.tfrec',\n",
       "  '/content/drive/MyDrive/cassava-leaf-disease-classification/cassava-leaf-disease-classification/train_tfrecords/ld_train13-1338.tfrec',\n",
       "  '/content/drive/MyDrive/cassava-leaf-disease-classification/cassava-leaf-disease-classification/train_tfrecords/ld_train14-1338.tfrec',\n",
       "  '/content/drive/MyDrive/cassava-leaf-disease-classification/cassava-leaf-disease-classification/train_tfrecords/ld_train15-1327.tfrec'],\n",
       " ['/content/drive/MyDrive/cassava-leaf-disease-classification/cassava-leaf-disease-classification/test_tfrecords/ld_test00-1.tfrec'])"
      ]
     },
     "execution_count": 11,
     "metadata": {},
     "output_type": "execute_result"
    }
   ],
   "source": [
    "train_list = tf.io.gfile.glob(train_path)\n",
    "test_list = tf.io.gfile.glob(test_path)\n",
    "train_list, test_list"
   ]
  },
  {
   "cell_type": "code",
   "execution_count": 12,
   "metadata": {
    "id": "3-Qacx54pxUG"
   },
   "outputs": [],
   "source": [
    "df_training, df_validation = train_test_split(train_list,\n",
    "                                              test_size=0.2, random_state=42)\n",
    "df_testing = tf.io.gfile.glob(test_list)"
   ]
  },
  {
   "cell_type": "code",
   "execution_count": 13,
   "metadata": {
    "colab": {
     "base_uri": "https://localhost:8080/"
    },
    "id": "it1Yp5TRp4re",
    "outputId": "8fbd3341-8ce7-4774-c151-39088782f9eb"
   },
   "outputs": [
    {
     "data": {
      "text/plain": [
       "(12, 4, 1)"
      ]
     },
     "execution_count": 13,
     "metadata": {},
     "output_type": "execute_result"
    }
   ],
   "source": [
    "len(df_training), len(df_validation), len(df_testing)"
   ]
  },
  {
   "cell_type": "code",
   "execution_count": 14,
   "metadata": {
    "id": "45iVxFaIp7Y1"
   },
   "outputs": [],
   "source": [
    "# df_training, df_validation, df_testing\n"
   ]
  },
  {
   "cell_type": "code",
   "execution_count": 15,
   "metadata": {
    "id": "SLzxZI6Yp_9Z"
   },
   "outputs": [],
   "source": [
    "def train_augmentation(image, label):\n",
    "    # image_augmentation \n",
    "    # image = tf.image.random_flip_left_right(image)\n",
    "    # image = tf.image.random_flip_up_down(image)\n",
    "    # image = tf.image.random_hue(image, 0.2)\n",
    "    # image = tf.image.random_crop(image,[image_size, image_size, 3])\n",
    "    # image = tf.image.random_brightness(image, max_delta = 0.5)\n",
    "    # image = tf.image.random_saturation(image, lower = 5, upper = 10)\n",
    "    # image = tf.image.random_contrast(image, 0.2, 0.5)\n",
    "    # image = tf.image.random_jpeg_quality(image, 75, 95)\n",
    "    return image, label"
   ]
  },
  {
   "cell_type": "code",
   "execution_count": 16,
   "metadata": {
    "id": "UYKaz94fqP8a"
   },
   "outputs": [],
   "source": [
    "def get_training_dataset():\n",
    "    df_train = load_dataset(df_training, labeled=True)  \n",
    "    df_train = df_train.map(train_augmentation, num_parallel_calls=AUTOTUNE)  \n",
    "    df_train = df_train.repeat()\n",
    "    df_train = df_train.shuffle(2048)\n",
    "    df_train = df_train.batch(Batch_Size)\n",
    "    df_train = df_train.prefetch(AUTOTUNE) \n",
    "    return df_train"
   ]
  },
  {
   "cell_type": "code",
   "execution_count": 17,
   "metadata": {
    "id": "kRtXAcYmqZkk"
   },
   "outputs": [],
   "source": [
    "def get_validation_dataset(ordered=False):\n",
    "    df_valid = load_dataset(df_validation, labeled=True, ordered=ordered) \n",
    "    df_valid = df_valid.batch(Batch_Size)\n",
    "    df_valid = df_valid.cache()\n",
    "    df_valid = df_valid.prefetch(AUTOTUNE)\n",
    "    return df_valid"
   ]
  },
  {
   "cell_type": "code",
   "execution_count": 18,
   "metadata": {
    "id": "0avop9Xxqb90"
   },
   "outputs": [],
   "source": [
    "def get_test_dataset(ordered=False):\n",
    "    df_test = load_dataset(df_testing, labeled=False, ordered=ordered)\n",
    "    df_test = df_test.batch(Batch_Size)\n",
    "    df_test = df_test.prefetch(AUTOTUNE)\n",
    "    return df_test"
   ]
  },
  {
   "cell_type": "code",
   "execution_count": 19,
   "metadata": {
    "id": "AdMJD-ffqdyN"
   },
   "outputs": [],
   "source": [
    "def counting(filenames):\n",
    "    n = [int(re.compile(r\"-([0-9]*)\\.\").search(filename).group(1)) for filename in filenames]\n",
    "    return np.sum(n)"
   ]
  },
  {
   "cell_type": "code",
   "execution_count": 20,
   "metadata": {
    "id": "76DDAlcFqgH4"
   },
   "outputs": [],
   "source": [
    "num_training = counting(df_training)\n",
    "num_valid = counting(df_validation)\n",
    "num_test = counting(df_testing)\n",
    "\n",
    "# print('This Dataset: {} training images, {} validation images, {} (unlabeled) test images'.format(\n",
    "#     num_training, num_valid, num_test))"
   ]
  },
  {
   "cell_type": "code",
   "execution_count": 21,
   "metadata": {
    "id": "y0z7FpaZqvrx"
   },
   "outputs": [],
   "source": [
    "df_train = get_training_dataset()\n",
    "df_valid = get_validation_dataset()\n",
    "df_test = get_test_dataset()\n",
    "# df_train, df_valid, df_test"
   ]
  },
  {
   "cell_type": "code",
   "execution_count": 22,
   "metadata": {
    "id": "P8xi5buwq1u1"
   },
   "outputs": [],
   "source": [
    "data_augmentation = tf.keras.Sequential([\n",
    "  tf.keras.layers.experimental.preprocessing.RandomFlip(mode='horizontal_and_vertical'),\n",
    "  tf.keras.layers.experimental.preprocessing.RandomRotation(factor=(-0.2,0.2)),\n",
    "  tf.keras.layers.experimental.preprocessing.RandomCrop(height = image_size, width = image_size) # 80%\n",
    "  # tf.keras.layers.experimental.preprocessing.RandomHeight(factor=0.2),\n",
    "  # tf.keras.layers.experimental.preprocessing.RandomWidth(factor=0.2),\n",
    "  # tf.keras.layers.experimental.preprocessing.RandomContrast(0.25), try\n",
    "  # tf.keras.layers.experimental.preprocessing.RandomZoom(0.5, 0.2)\n",
    "])"
   ]
  },
  {
   "cell_type": "code",
   "execution_count": 23,
   "metadata": {
    "colab": {
     "base_uri": "https://localhost:8080/"
    },
    "id": "fJ5chefArSko",
    "outputId": "b2f35071-7c7a-4e4d-c393-3ed5f6bba862"
   },
   "outputs": [
    {
     "name": "stdout",
     "output_type": "stream",
     "text": [
      "Downloading data from https://storage.googleapis.com/tensorflow/keras-applications/vgg16/vgg16_weights_tf_dim_ordering_tf_kernels_notop.h5\n",
      "58892288/58889256 [==============================] - 1s 0us/step\n",
      "58900480/58889256 [==============================] - 1s 0us/step\n"
     ]
    }
   ],
   "source": [
    "from keras.applications.vgg16 import VGG16\n",
    "\n",
    "def create_vgg():\n",
    "  inputshape = (image_size, image_size, 3)\n",
    "  inputs = tf.keras.Input(shape=inputshape)\n",
    "  x = data_augmentation(inputs)\n",
    "\n",
    "  base_model = VGG16(include_top = False, input_shape = inputshape, weights=\"imagenet\")\n",
    "\n",
    "  x = base_model(x)\n",
    "\n",
    "  model = Flatten()(x)\n",
    "  model = Dense(256, activation='relu')(model)\n",
    "  model = Dropout(0.5)(model)\n",
    "\n",
    "  model = Dense(128, activation='relu')(model)\n",
    "  model = Dropout(0.5)(model)\n",
    "\n",
    "  out = Dense(5, activation='softmax')(model)\n",
    "  \n",
    "  model = Model(inputs = inputs, outputs = out)\n",
    "  return model\n",
    "\n",
    "model_vgg = create_vgg()"
   ]
  },
  {
   "cell_type": "code",
   "execution_count": 24,
   "metadata": {
    "id": "iKs1spinrvVV"
   },
   "outputs": [],
   "source": [
    "opt = tf.keras.optimizers.Nadam(learning_rate = 1e-5)\n",
    "model_vgg.compile(loss=\"sparse_categorical_crossentropy\", optimizer=opt, metrics=[\"accuracy\"])"
   ]
  },
  {
   "cell_type": "code",
   "execution_count": 25,
   "metadata": {
    "id": "Kq1o09VesXY8"
   },
   "outputs": [],
   "source": [
    "es = tf.keras.callbacks.EarlyStopping(monitor='val_accuracy', mode='max', verbose=1, patience=5, restore_best_weights = True)\n"
   ]
  },
  {
   "cell_type": "code",
   "execution_count": 26,
   "metadata": {
    "colab": {
     "base_uri": "https://localhost:8080/"
    },
    "id": "ToAxpegBr3mo",
    "outputId": "ab2c4eb1-8111-4d6c-c995-381765892cd0"
   },
   "outputs": [
    {
     "name": "stdout",
     "output_type": "stream",
     "text": [
      "Epoch 1/20\n",
      "250/250 [==============================] - 342s 1s/step - loss: 1.1618 - accuracy: 0.6033 - val_loss: 0.8840 - val_accuracy: 0.6596\n",
      "Epoch 2/20\n",
      "250/250 [==============================] - 292s 1s/step - loss: 0.9849 - accuracy: 0.6370 - val_loss: 0.8274 - val_accuracy: 0.6837\n",
      "Epoch 3/20\n",
      "250/250 [==============================] - 291s 1s/step - loss: 0.9628 - accuracy: 0.6532 - val_loss: 0.7917 - val_accuracy: 0.6860\n",
      "Epoch 4/20\n",
      "250/250 [==============================] - 291s 1s/step - loss: 0.9005 - accuracy: 0.6697 - val_loss: 0.7423 - val_accuracy: 0.7003\n",
      "Epoch 5/20\n",
      "250/250 [==============================] - 291s 1s/step - loss: 0.7995 - accuracy: 0.7053 - val_loss: 0.7457 - val_accuracy: 0.7282\n",
      "Epoch 6/20\n",
      "250/250 [==============================] - 291s 1s/step - loss: 0.7953 - accuracy: 0.6970 - val_loss: 0.7415 - val_accuracy: 0.7553\n",
      "Epoch 7/20\n",
      "250/250 [==============================] - 291s 1s/step - loss: 0.7529 - accuracy: 0.7315 - val_loss: 0.6566 - val_accuracy: 0.7681\n",
      "Epoch 8/20\n",
      "250/250 [==============================] - 291s 1s/step - loss: 0.6772 - accuracy: 0.7563 - val_loss: 0.6368 - val_accuracy: 0.7952\n",
      "Epoch 9/20\n",
      "250/250 [==============================] - 291s 1s/step - loss: 0.6715 - accuracy: 0.7623 - val_loss: 0.5575 - val_accuracy: 0.8110\n",
      "Epoch 10/20\n",
      "250/250 [==============================] - 291s 1s/step - loss: 0.6452 - accuracy: 0.7797 - val_loss: 0.5398 - val_accuracy: 0.8185\n",
      "Epoch 11/20\n",
      "250/250 [==============================] - 291s 1s/step - loss: 0.6489 - accuracy: 0.7788 - val_loss: 0.5076 - val_accuracy: 0.8291\n",
      "Epoch 12/20\n",
      "250/250 [==============================] - 291s 1s/step - loss: 0.6170 - accuracy: 0.7915 - val_loss: 0.5102 - val_accuracy: 0.8170\n",
      "Epoch 13/20\n",
      "250/250 [==============================] - 291s 1s/step - loss: 0.6049 - accuracy: 0.8037 - val_loss: 0.5378 - val_accuracy: 0.8065\n",
      "Epoch 14/20\n",
      "250/250 [==============================] - 291s 1s/step - loss: 0.5870 - accuracy: 0.7987 - val_loss: 0.4935 - val_accuracy: 0.8193\n",
      "Epoch 15/20\n",
      "250/250 [==============================] - 291s 1s/step - loss: 0.6042 - accuracy: 0.7987 - val_loss: 0.4789 - val_accuracy: 0.8253\n",
      "Epoch 16/20\n",
      "250/250 [==============================] - 291s 1s/step - loss: 0.5821 - accuracy: 0.8058 - val_loss: 0.4894 - val_accuracy: 0.8343\n",
      "Epoch 17/20\n",
      "250/250 [==============================] - 291s 1s/step - loss: 0.5436 - accuracy: 0.8215 - val_loss: 0.4972 - val_accuracy: 0.8155\n",
      "Epoch 18/20\n",
      "250/250 [==============================] - 291s 1s/step - loss: 0.5785 - accuracy: 0.8052 - val_loss: 0.4950 - val_accuracy: 0.8170\n",
      "Epoch 19/20\n",
      "250/250 [==============================] - 291s 1s/step - loss: 0.5706 - accuracy: 0.8125 - val_loss: 0.4930 - val_accuracy: 0.8291\n",
      "Epoch 20/20\n",
      "250/250 [==============================] - 291s 1s/step - loss: 0.5627 - accuracy: 0.8112 - val_loss: 0.5465 - val_accuracy: 0.8057\n"
     ]
    }
   ],
   "source": [
    "Batch_Size = 64\n",
    "steps_per_epoch = num_training // Batch_Size\n",
    "valid_steps = num_valid // Batch_Size\n",
    "history_IR = model_vgg.fit(df_train,steps_per_epoch=steps_per_epoch, \n",
    "                    validation_data=df_valid, validation_steps=valid_steps, epochs=20, callbacks = [es])"
   ]
  },
  {
   "cell_type": "code",
   "execution_count": 27,
   "metadata": {
    "colab": {
     "base_uri": "https://localhost:8080/"
    },
    "id": "LT7lUrcbZUZe",
    "outputId": "8567b0d2-ebd9-433c-8b57-8cab97bde3f6"
   },
   "outputs": [
    {
     "name": "stdout",
     "output_type": "stream",
     "text": [
      "Saved trained model at /content/saved_models/VGG_model.h5 \n"
     ]
    }
   ],
   "source": [
    "from keras.models import load_model\n",
    "import os\n",
    "def save_model(model, name):\n",
    "  model_name = '{}.h5'.format(name)\n",
    "  save_dir = os.path.join(os.getcwd(), 'saved_models')\n",
    "  \n",
    "  # Save model and weights\n",
    "  if not os.path.isdir(save_dir):\n",
    "      os.makedirs(save_dir)\n",
    "  model_path = os.path.join(save_dir, model_name)\n",
    "  model.save(model_path)\n",
    "  print('Saved trained model at %s ' % model_path)\n",
    "\n",
    "\n",
    "save_model(model_vgg, 'VGG_model')"
   ]
  },
  {
   "cell_type": "code",
   "execution_count": 29,
   "metadata": {
    "colab": {
     "base_uri": "https://localhost:8080/",
     "height": 316
    },
    "id": "ytP5fgQRzf-g",
    "outputId": "f299bcc4-0634-4ba3-85c1-b955eebeb57b"
   },
   "outputs": [
    {
     "data": {
      "text/plain": [
       "<matplotlib.legend.Legend at 0x7fb9b9fc0190>"
      ]
     },
     "execution_count": 29,
     "metadata": {},
     "output_type": "execute_result"
    },
    {
     "data": {
      "image/png": "[encoded data removed]",
      "text/plain": [
       "<Figure size 432x288 with 1 Axes>"
      ]
     },
     "metadata": {},
     "output_type": "display_data"
    }
   ],
   "source": [
    "N = 20\n",
    "plt.style.use(\"ggplot\")\n",
    "plt.figure()\n",
    "plt.plot(np.arange(0, N), history_IR.history[\"accuracy\"], label=\"Train Accuracy\")\n",
    "plt.plot(np.arange(0, N), history_IR.history[\"val_accuracy\"], label=\"Validation Accuracy\")\n",
    "\n",
    "plt.title(\"Loss and Accuracy Plot\")\n",
    "plt.xlabel(\"Epoch\")\n",
    "plt.legend(bbox_to_anchor=(1.05, 1.0), loc='upper left')"
   ]
  },
  {
   "cell_type": "code",
   "execution_count": 30,
   "metadata": {
    "colab": {
     "base_uri": "https://localhost:8080/",
     "height": 316
    },
    "id": "DYSZiQtAY1CE",
    "outputId": "2c367394-f0a8-4134-cd88-f810b55995e8"
   },
   "outputs": [
    {
     "data": {
      "text/plain": [
       "<matplotlib.legend.Legend at 0x7fb93fd75710>"
      ]
     },
     "execution_count": 30,
     "metadata": {},
     "output_type": "execute_result"
    },
    {
     "data": {
      "image/png": "[encoded data removed]",
      "text/plain": [
       "<Figure size 432x288 with 1 Axes>"
      ]
     },
     "metadata": {},
     "output_type": "display_data"
    }
   ],
   "source": [
    "plt.style.use(\"ggplot\")\n",
    "plt.figure()\n",
    "plt.plot(np.arange(0, N), history_IR.history[\"loss\"], label=\"Train Loss\")\n",
    "plt.plot(np.arange(0, N), history_IR.history[\"val_loss\"], label=\"Validation Loss\")\n",
    "plt.title(\"Loss and Accuracy Plot\")\n",
    "plt.xlabel(\"Epoch\")\n",
    "plt.legend(bbox_to_anchor=(1.05, 1.0), loc='upper left')"
   ]
  },
  {
   "cell_type": "code",
   "execution_count": 38,
   "metadata": {
    "colab": {
     "base_uri": "https://localhost:8080/"
    },
    "id": "EPgk-AsbLDM_",
    "outputId": "a26d02fd-a3ae-4616-924b-b69558ed70c2"
   },
   "outputs": [
    {
     "name": "stdout",
     "output_type": "stream",
     "text": [
      "Model: \"model\"\n",
      "_________________________________________________________________\n",
      " Layer (type)                Output Shape              Param #   \n",
      "=================================================================\n",
      " input_1 (InputLayer)        [(None, 336, 336, 3)]     0         \n",
      "                                                                 \n",
      " sequential (Sequential)     (None, 336, 336, 3)       0         \n",
      "                                                                 \n",
      " vgg16 (Functional)          (None, 10, 10, 512)       14714688  \n",
      "                                                                 \n",
      " flatten (Flatten)           (None, 51200)             0         \n",
      "                                                                 \n",
      " dense (Dense)               (None, 256)               13107456  \n",
      "                                                                 \n",
      " dropout (Dropout)           (None, 256)               0         \n",
      "                                                                 \n",
      " dense_1 (Dense)             (None, 128)               32896     \n",
      "                                                                 \n",
      " dropout_1 (Dropout)         (None, 128)               0         \n",
      "                                                                 \n",
      " dense_2 (Dense)             (None, 5)                 645       \n",
      "                                                                 \n",
      "=================================================================\n",
      "Total params: 27,855,685\n",
      "Trainable params: 27,855,685\n",
      "Non-trainable params: 0\n",
      "_________________________________________________________________\n"
     ]
    }
   ],
   "source": [
    "model_vgg.summary()"
   ]
  },
  {
   "cell_type": "code",
   "execution_count": 58,
   "metadata": {
    "id": "oE0CxzXOFB_x"
   },
   "outputs": [],
   "source": []
  }
 ],
 "metadata": {
  "accelerator": "GPU",
  "colab": {
   "collapsed_sections": [],
   "name": "ML_Final_Project.ipynb",
   "provenance": []
  },
  "kernelspec": {
   "display_name": "Python 3",
   "language": "python",
   "name": "python3"
  },
  "language_info": {
   "codemirror_mode": {
    "name": "ipython",
    "version": 3
   },
   "file_extension": ".py",
   "mimetype": "text/x-python",
   "name": "python",
   "nbconvert_exporter": "python",
   "pygments_lexer": "ipython3",
   "version": "3.8.8"
  }
 },
 "nbformat": 4,
 "nbformat_minor": 1
}
