{
 "cells": [
  {
   "cell_type": "code",
   "execution_count": 1,
   "metadata": {
    "colab": {
     "base_uri": "https://localhost:8080/"
    },
    "id": "iEaEE7uwBPVD",
    "outputId": "529b07f1-264c-4fb9-cf33-d89a124bfcaf"
   },
   "outputs": [
    {
     "name": "stdout",
     "output_type": "stream",
     "text": [
      "Mounted at /content/drive\n"
     ]
    }
   ],
   "source": [
    "from google.colab import drive\n",
    "drive.mount('/content/drive')"
   ]
  },
  {
   "cell_type": "code",
   "execution_count": 2,
   "metadata": {
    "id": "8VdTBxWwyRYD"
   },
   "outputs": [],
   "source": [
    "import pandas as pd\n",
    "import numpy as np\n",
    "from sklearn.dummy import DummyClassifier\n",
    "from google.colab import files\n",
    "import pandas as pd\n",
    "import io\n",
    "from keras.preprocessing.image import img_to_array, load_img, ImageDataGenerator\n",
    "from google.colab import drive\n",
    "import json\n",
    "from tensorflow import keras\n",
    "import tensorflow as tf\n",
    "\n",
    "import matplotlib.pyplot as plt\n",
    "import seaborn as sns\n",
    "import matplotlib.image as mpimg\n",
    "import random\n",
    "import tensorflow as tf\n",
    "import cv2\n",
    "from mpl_toolkits.mplot3d import Axes3D\n",
    "from matplotlib import cm\n",
    "from matplotlib import colors\n",
    "from sklearn.model_selection import train_test_split\n",
    "import re\n",
    "from functools import partial\n",
    "import keras\n",
    "from keras.layers import Dense, Dropout, Input, MaxPooling2D, ZeroPadding2D, Conv2D, Flatten, BatchNormalization\n",
    "from keras.models import Sequential, Model\n",
    "from keras.losses import categorical_crossentropy\n",
    "from tensorflow.keras.optimizers import Adam, SGD\n",
    "from keras.preprocessing.image import img_to_array, load_img, ImageDataGenerator\n",
    "from tensorflow.keras.utils import to_categorical\n",
    "from tensorflow.keras import regularizers\n",
    "\n",
    "from tensorflow.keras.layers import MaxPool2D, AveragePooling2D, GlobalAveragePooling2D\n",
    "import numpy as np\n",
    "import pandas as pd\n",
    "from sklearn.model_selection import train_test_split\n",
    "\n",
    "import matplotlib.pyplot as plt\n",
    "from mpl_toolkits.axes_grid1 import ImageGrid\n",
    "\n",
    "from zipfile import ZipFile\n",
    "import time\n",
    "from datetime import timedelta\n",
    "from io import BytesIO\n",
    "\n",
    "# Image manipulation.\n",
    "import PIL.Image\n",
    "\n",
    "import pickle\n",
    "import os\n",
    "\n",
    "import random\n",
    "from keras.callbacks import ReduceLROnPlateau\n",
    "\n",
    "import matplotlib.pyplot as plt\n",
    "import numpy as np"
   ]
  },
  {
   "cell_type": "code",
   "execution_count": 3,
   "metadata": {
    "colab": {
     "base_uri": "https://localhost:8080/"
    },
    "id": "TBr49HnAxzrp",
    "outputId": "e16e40d1-c297-4594-8dea-165efcbc2e3c"
   },
   "outputs": [
    {
     "data": {
      "text/plain": [
       "{'0': 'Cassava Bacterial Blight (CBB)',\n",
       " '1': 'Cassava Brown Streak Disease (CBSD)',\n",
       " '2': 'Cassava Green Mottle (CGM)',\n",
       " '3': 'Cassava Mosaic Disease (CMD)',\n",
       " '4': 'Healthy'}"
      ]
     },
     "execution_count": 3,
     "metadata": {},
     "output_type": "execute_result"
    }
   ],
   "source": [
    "f = open('/content/drive/MyDrive/cassava-leaf-disease-classification/label_num_to_disease_map.json')\n",
    "label_name = json.load(f)\n",
    "label_name"
   ]
  },
  {
   "cell_type": "code",
   "execution_count": 4,
   "metadata": {
    "colab": {
     "base_uri": "https://localhost:8080/"
    },
    "id": "dn2hMn_wy0Wy",
    "outputId": "ed5c7127-c049-4dbe-9ea1-7a4de7919e50"
   },
   "outputs": [
    {
     "name": "stdout",
     "output_type": "stream",
     "text": [
      "Number of replicas: 1\n"
     ]
    }
   ],
   "source": [
    "try:\n",
    "    tpu = tf.distribute.cluster_resolver.TPUClusterResolver()\n",
    "    print('Device:', tpu.master())\n",
    "    tf.config.experimental_connect_to_cluster(tpu)\n",
    "    tf.tpu.experimental.initialize_tpu_system(tpu)\n",
    "    strategy = tf.distribute.experimental.TPUStrategy(tpu)\n",
    "except:\n",
    "    strategy = tf.distribute.get_strategy()\n",
    "print('Number of replicas:', strategy.num_replicas_in_sync)"
   ]
  },
  {
   "cell_type": "code",
   "execution_count": 5,
   "metadata": {
    "colab": {
     "base_uri": "https://localhost:8080/"
    },
    "id": "ao4QCcCMy5NI",
    "outputId": "e9f4becf-9440-4213-a0f9-1526e91ac65e"
   },
   "outputs": [
    {
     "data": {
      "text/plain": [
       "32"
      ]
     },
     "execution_count": 5,
     "metadata": {},
     "output_type": "execute_result"
    }
   ],
   "source": [
    "AUTOTUNE = tf.data.experimental.AUTOTUNE\n",
    "Batch_Size = 32 * strategy.num_replicas_in_sync\n",
    "Batch_Size"
   ]
  },
  {
   "cell_type": "code",
   "execution_count": 6,
   "metadata": {
    "id": "rEoM2tNdy6Es"
   },
   "outputs": [],
   "source": [
    "labels = list(label_name.keys())\n",
    "AUTOTUNE = tf.data.experimental.AUTOTUNE\n",
    "train_path = '/content/drive/MyDrive/cassava-leaf-disease-classification/train_tfrecords/ld_train*.tfrec'\n",
    "test_path = '/content/drive/MyDrive/cassava-leaf-disease-classification/test_tfrecords/ld_test*.tfrec'\n",
    "Image_Size_Original = [512, 512]\n",
    "image_size = 336"
   ]
  },
  {
   "cell_type": "code",
   "execution_count": 7,
   "metadata": {
    "colab": {
     "base_uri": "https://localhost:8080/"
    },
    "id": "4OnLiZA5zZT6",
    "outputId": "153c9f82-389f-4894-bf10-9f5b6baef783"
   },
   "outputs": [
    {
     "name": "stdout",
     "output_type": "stream",
     "text": [
      "['0', '1', '2', '3', '4']\n"
     ]
    }
   ],
   "source": [
    "print(labels)"
   ]
  },
  {
   "cell_type": "code",
   "execution_count": 8,
   "metadata": {
    "id": "MyMqyGQCzdhi"
   },
   "outputs": [],
   "source": [
    "def preprocess_img(img):\n",
    "  img_decode = tf.image.decode_jpeg(img, channels = 3)\n",
    "  img_255 = tf.cast(img_decode, tf.float32)/255.0\n",
    "  img_res = tf.image.resize(img_255, [image_size,image_size])\n",
    "  img_resize = tf.reshape(img_res, [image_size, image_size,3])\n",
    "  return img_resize"
   ]
  },
  {
   "cell_type": "code",
   "execution_count": 9,
   "metadata": {
    "id": "ATXzRJaQzi_G"
   },
   "outputs": [],
   "source": [
    "def read_tfrecord(example, labeled):\n",
    "  tfrecord_format = {\"image\":tf.io.FixedLenFeature([], tf.string),\n",
    "                     \"target\":tf.io.FixedLenFeature([], tf.int64),\n",
    "                     } if labeled else {\n",
    "                     \"image\": tf.io.FixedLenFeature([], tf.string),\n",
    "                     \"image_name\": tf.io.FixedLenFeature([], tf.string)\n",
    "                     }\n",
    "  example = tf.io.parse_single_example(example, tfrecord_format)\n",
    "  \n",
    "  img_res = preprocess_img(example['image'])\n",
    "  \n",
    "  if labeled:\n",
    "    label = tf.cast(example['target'], tf.int32)\n",
    "    return img_res, label\n",
    "  else: \n",
    "    id = example['image_name']\n",
    "    return img_res, id"
   ]
  },
  {
   "cell_type": "code",
   "execution_count": 10,
   "metadata": {
    "id": "mklvmaItzn5G"
   },
   "outputs": [],
   "source": [
    "def load_dataset(filenames, labeled=True, ordered=False):\n",
    "    ignore_order = tf.data.Options()\n",
    "    if not ordered:\n",
    "        ignore_order.experimental_deterministic = False # disable order, increase speed\n",
    "    dataset = tf.data.TFRecordDataset(filenames, num_parallel_reads=AUTOTUNE) # automatically interleaves reads from multiple files\n",
    "    dataset = dataset.with_options(ignore_order) # uses data as soon as it streams in, rather than in its original order\n",
    "    dataset = dataset.map(partial(read_tfrecord, labeled=labeled), num_parallel_calls=AUTOTUNE)\n",
    "    return dataset"
   ]
  },
  {
   "cell_type": "code",
   "execution_count": 11,
   "metadata": {
    "colab": {
     "base_uri": "https://localhost:8080/"
    },
    "id": "W4a3e36L0RU7",
    "outputId": "b1cfb565-8201-4c9f-cd51-3fca41039ce9"
   },
   "outputs": [
    {
     "data": {
      "text/plain": [
       "(['/content/drive/MyDrive/cassava-leaf-disease-classification/train_tfrecords/ld_train00-1338.tfrec',\n",
       "  '/content/drive/MyDrive/cassava-leaf-disease-classification/train_tfrecords/ld_train01-1338.tfrec',\n",
       "  '/content/drive/MyDrive/cassava-leaf-disease-classification/train_tfrecords/ld_train02-1338.tfrec',\n",
       "  '/content/drive/MyDrive/cassava-leaf-disease-classification/train_tfrecords/ld_train03-1338.tfrec',\n",
       "  '/content/drive/MyDrive/cassava-leaf-disease-classification/train_tfrecords/ld_train04-1338.tfrec',\n",
       "  '/content/drive/MyDrive/cassava-leaf-disease-classification/train_tfrecords/ld_train05-1338.tfrec',\n",
       "  '/content/drive/MyDrive/cassava-leaf-disease-classification/train_tfrecords/ld_train06-1338.tfrec',\n",
       "  '/content/drive/MyDrive/cassava-leaf-disease-classification/train_tfrecords/ld_train07-1338.tfrec',\n",
       "  '/content/drive/MyDrive/cassava-leaf-disease-classification/train_tfrecords/ld_train08-1338.tfrec',\n",
       "  '/content/drive/MyDrive/cassava-leaf-disease-classification/train_tfrecords/ld_train09-1338.tfrec',\n",
       "  '/content/drive/MyDrive/cassava-leaf-disease-classification/train_tfrecords/ld_train10-1338.tfrec',\n",
       "  '/content/drive/MyDrive/cassava-leaf-disease-classification/train_tfrecords/ld_train11-1338.tfrec',\n",
       "  '/content/drive/MyDrive/cassava-leaf-disease-classification/train_tfrecords/ld_train12-1338.tfrec',\n",
       "  '/content/drive/MyDrive/cassava-leaf-disease-classification/train_tfrecords/ld_train13-1338.tfrec',\n",
       "  '/content/drive/MyDrive/cassava-leaf-disease-classification/train_tfrecords/ld_train14-1338.tfrec',\n",
       "  '/content/drive/MyDrive/cassava-leaf-disease-classification/train_tfrecords/ld_train15-1327.tfrec'],\n",
       " ['/content/drive/MyDrive/cassava-leaf-disease-classification/test_tfrecords/ld_test00-1.tfrec'])"
      ]
     },
     "execution_count": 11,
     "metadata": {},
     "output_type": "execute_result"
    }
   ],
   "source": [
    "train_list = tf.io.gfile.glob(train_path)\n",
    "test_list = tf.io.gfile.glob(test_path)\n",
    "train_list, test_list"
   ]
  },
  {
   "cell_type": "code",
   "execution_count": 12,
   "metadata": {
    "id": "aFmC4rFb0CXM"
   },
   "outputs": [],
   "source": [
    "df_training, df_validation = train_test_split(train_list, test_size=0.2, random_state=2)\n",
    "df_testing = tf.io.gfile.glob(test_list)"
   ]
  },
  {
   "cell_type": "code",
   "execution_count": 13,
   "metadata": {
    "id": "I0syavtZ0aCI"
   },
   "outputs": [],
   "source": [
    "def train_augmentation(image, label):\n",
    "    # image_augmentation \n",
    "    # image = tf.image.random_flip_left_right(image)\n",
    "    # image = tf.image.random_flip_up_down(image)\n",
    "    # image = tf.image.random_hue(image, 0.2)\n",
    "    # image = tf.image.random_crop(image,[image_size, image_size, 3])\n",
    "    # image = tf.image.random_brightness(image, max_delta = 0.5)\n",
    "    # image = tf.image.random_saturation(image, lower = 5, upper = 10)\n",
    "    # image = tf.image.random_contrast(image, 0.2, 0.5)\n",
    "    # image = tf.image.random_jpeg_quality(image, 75, 95)\n",
    "    return image, label"
   ]
  },
  {
   "cell_type": "code",
   "execution_count": 14,
   "metadata": {
    "id": "VVLH5uum0ePe"
   },
   "outputs": [],
   "source": [
    "def get_training_dataset():\n",
    "    df_train = load_dataset(df_training, labeled=True)  \n",
    "    df_train = df_train.map(train_augmentation, num_parallel_calls=AUTOTUNE)  \n",
    "    df_train = df_train.repeat()\n",
    "    df_train = df_train.shuffle(2048)\n",
    "    df_train = df_train.batch(Batch_Size)\n",
    "    df_train = df_train.prefetch(AUTOTUNE) \n",
    "    return df_train"
   ]
  },
  {
   "cell_type": "code",
   "execution_count": 15,
   "metadata": {
    "id": "X3CYxK2T0jHu"
   },
   "outputs": [],
   "source": [
    "def get_validation_dataset(ordered=False):\n",
    "    df_valid = load_dataset(df_validation, labeled=True, ordered=ordered) \n",
    "    df_valid = df_valid.batch(Batch_Size)\n",
    "    df_valid = df_valid.cache()\n",
    "    df_valid = df_valid.prefetch(AUTOTUNE)\n",
    "    return df_valid"
   ]
  },
  {
   "cell_type": "code",
   "execution_count": 16,
   "metadata": {
    "id": "fhmhjK5A0oC7"
   },
   "outputs": [],
   "source": [
    "def get_test_dataset(ordered=False):\n",
    "    df_test = load_dataset(df_testing, labeled=False, ordered=ordered)\n",
    "    df_test = df_test.batch(Batch_Size)\n",
    "    df_test = df_test.prefetch(AUTOTUNE)\n",
    "    return df_test"
   ]
  },
  {
   "cell_type": "code",
   "execution_count": 17,
   "metadata": {
    "id": "IlTZh_hf0vPW"
   },
   "outputs": [],
   "source": [
    "def counting(filenames):\n",
    "    n = [int(re.compile(r\"-([0-9]*)\\.\").search(filename).group(1)) for filename in filenames]\n",
    "    return np.sum(n)"
   ]
  },
  {
   "cell_type": "code",
   "execution_count": 18,
   "metadata": {
    "id": "YomQiCAr0wCf"
   },
   "outputs": [],
   "source": [
    "num_training = counting(df_training)\n",
    "num_valid = counting(df_validation)\n",
    "num_test = counting(df_testing)\n",
    "\n",
    "# print('This Dataset: {} training images, {} validation images, {} (unlabeled) test images'.format(\n",
    "#     num_training, num_valid, num_test))"
   ]
  },
  {
   "cell_type": "code",
   "execution_count": 19,
   "metadata": {
    "id": "vCgcyUQ405_c"
   },
   "outputs": [],
   "source": [
    "df_train = get_training_dataset()\n",
    "df_valid = get_validation_dataset()\n",
    "df_test = get_test_dataset()\n",
    "# df_train, df_valid, df_test"
   ]
  },
  {
   "cell_type": "code",
   "execution_count": 20,
   "metadata": {
    "id": "aLaBzZFC1Bbm"
   },
   "outputs": [],
   "source": [
    "data_augmentation = tf.keras.Sequential([\n",
    "  tf.keras.layers.experimental.preprocessing.RandomFlip(mode='horizontal_and_vertical'),\n",
    "  tf.keras.layers.experimental.preprocessing.RandomRotation(factor=(-0.2,0.2)),\n",
    "  tf.keras.layers.experimental.preprocessing.RandomCrop(height = image_size, width = image_size) # 80%\n",
    "  # tf.keras.layers.experimental.preprocessing.RandomHeight(factor=0.2),\n",
    "  # tf.keras.layers.experimental.preprocessing.RandomWidth(factor=0.2),\n",
    "  # tf.keras.layers.experimental.preprocessing.RandomContrast(0.25), try\n",
    "  # tf.keras.layers.experimental.preprocessing.RandomZoom(0.5, 0.2)\n",
    "])"
   ]
  },
  {
   "cell_type": "code",
   "execution_count": 21,
   "metadata": {
    "colab": {
     "base_uri": "https://localhost:8080/"
    },
    "id": "SGYM2Pd6uNyo",
    "outputId": "f64bc9e1-3004-4fb8-f876-b2de40914785"
   },
   "outputs": [
    {
     "name": "stdout",
     "output_type": "stream",
     "text": [
      "Downloading data from https://storage.googleapis.com/tensorflow/keras-applications/inception_v3/inception_v3_weights_tf_dim_ordering_tf_kernels_notop.h5\n",
      "87916544/87910968 [==============================] - 1s 0us/step\n",
      "87924736/87910968 [==============================] - 1s 0us/step\n"
     ]
    }
   ],
   "source": [
    "def make_basemodel_1():\n",
    "  base_model = tf.keras.applications.InceptionV3(input_shape=(image_size,image_size,3),\n",
    "                                               include_top=False,\n",
    "                                               weights='imagenet')\n",
    "  for layer in base_model.layers:\n",
    "    layer.trainble = False\n",
    "  return base_model\n",
    "\n",
    "base_model = make_basemodel_1()"
   ]
  },
  {
   "cell_type": "code",
   "execution_count": 22,
   "metadata": {
    "id": "pR1gfEyGuSCO"
   },
   "outputs": [],
   "source": [
    "def make_headmodel_1(base_model):\n",
    "  head = base_model.output\n",
    "\n",
    "  head = tf.keras.layers.GlobalMaxPooling2D()(head)\n",
    "  head = tf.keras.layers.BatchNormalization()(head)\n",
    "  head = Dropout(0.3)(head)\n",
    "\n",
    "  head = Flatten()(head)\n",
    "  head = Dense(256, activation = \"relu\", kernel_regularizer = 'l2')(head)\n",
    "  head = Dropout(0.5)(head)\n",
    "\n",
    "  head = tf.keras.layers.Dense(5, activation = \"softmax\")(head)\n",
    "  model = Model(inputs=base_model.input, outputs=head)\n",
    "  return model\n",
    "\n",
    "model = make_headmodel_1(base_model)"
   ]
  },
  {
   "cell_type": "code",
   "execution_count": 23,
   "metadata": {
    "id": "jf74k1_wuVo1"
   },
   "outputs": [],
   "source": [
    "opt = tf.keras.optimizers.Adam(learning_rate = 0.0001, beta_1 = 0.9, beta_2 = 0.999, epsilon = None, decay = 0.0, amsgrad = True)\n",
    "\n",
    "model.compile(loss='sparse_categorical_crossentropy', optimizer=opt, metrics=['accuracy'])"
   ]
  },
  {
   "cell_type": "code",
   "execution_count": 24,
   "metadata": {
    "colab": {
     "base_uri": "https://localhost:8080/"
    },
    "id": "WiNe1iQPuZxt",
    "outputId": "d5bef955-f6bf-4fd6-c020-f8d0c85c822a"
   },
   "outputs": [
    {
     "name": "stdout",
     "output_type": "stream",
     "text": [
      "Epoch 1/30\n",
      "125/125 [==============================] - 223s 1s/step - loss: 6.4048 - accuracy: 0.4435 - val_loss: 5.5040 - val_accuracy: 0.6806\n",
      "Epoch 2/30\n",
      "125/125 [==============================] - 172s 1s/step - loss: 5.6298 - accuracy: 0.6033 - val_loss: 5.1275 - val_accuracy: 0.6845\n",
      "Epoch 3/30\n",
      "125/125 [==============================] - 172s 1s/step - loss: 5.1826 - accuracy: 0.6708 - val_loss: 4.8719 - val_accuracy: 0.7538\n",
      "Epoch 4/30\n",
      "125/125 [==============================] - 172s 1s/step - loss: 4.8302 - accuracy: 0.7163 - val_loss: 4.7148 - val_accuracy: 0.7774\n",
      "Epoch 5/30\n",
      "125/125 [==============================] - 172s 1s/step - loss: 4.5402 - accuracy: 0.7565 - val_loss: 4.3759 - val_accuracy: 0.7698\n",
      "Epoch 6/30\n",
      "125/125 [==============================] - 172s 1s/step - loss: 4.3574 - accuracy: 0.7560 - val_loss: 4.1328 - val_accuracy: 0.7995\n",
      "Epoch 7/30\n",
      "125/125 [==============================] - 172s 1s/step - loss: 4.0848 - accuracy: 0.7925 - val_loss: 4.0061 - val_accuracy: 0.7896\n",
      "Epoch 8/30\n",
      "125/125 [==============================] - 172s 1s/step - loss: 3.8724 - accuracy: 0.8027 - val_loss: 3.7401 - val_accuracy: 0.8125\n",
      "Epoch 9/30\n",
      "125/125 [==============================] - 172s 1s/step - loss: 3.6717 - accuracy: 0.8170 - val_loss: 3.5558 - val_accuracy: 0.8186\n",
      "Epoch 10/30\n",
      "125/125 [==============================] - 172s 1s/step - loss: 3.4384 - accuracy: 0.8382 - val_loss: 3.3773 - val_accuracy: 0.8262\n",
      "Epoch 11/30\n",
      "125/125 [==============================] - 172s 1s/step - loss: 3.3426 - accuracy: 0.8250 - val_loss: 3.2726 - val_accuracy: 0.8125\n",
      "Epoch 12/30\n",
      "125/125 [==============================] - 172s 1s/step - loss: 3.1046 - accuracy: 0.8512 - val_loss: 3.0991 - val_accuracy: 0.8239\n",
      "Epoch 13/30\n",
      "125/125 [==============================] - 172s 1s/step - loss: 2.9636 - accuracy: 0.8487 - val_loss: 2.9453 - val_accuracy: 0.8270\n",
      "Epoch 14/30\n",
      "125/125 [==============================] - 172s 1s/step - loss: 2.7847 - accuracy: 0.8627 - val_loss: 2.8392 - val_accuracy: 0.7973\n",
      "Epoch 15/30\n",
      "125/125 [==============================] - 172s 1s/step - loss: 2.5917 - accuracy: 0.8813 - val_loss: 2.6897 - val_accuracy: 0.8331\n",
      "Epoch 16/30\n",
      "125/125 [==============================] - 172s 1s/step - loss: 2.4430 - accuracy: 0.8825 - val_loss: 2.5623 - val_accuracy: 0.8354\n",
      "Epoch 17/30\n",
      "125/125 [==============================] - 172s 1s/step - loss: 2.2946 - accuracy: 0.8963 - val_loss: 2.4408 - val_accuracy: 0.8377\n",
      "Epoch 18/30\n",
      "125/125 [==============================] - 172s 1s/step - loss: 2.1429 - accuracy: 0.9112 - val_loss: 2.3672 - val_accuracy: 0.8239\n",
      "Epoch 19/30\n",
      "125/125 [==============================] - 172s 1s/step - loss: 2.0073 - accuracy: 0.9183 - val_loss: 2.2763 - val_accuracy: 0.8331\n",
      "Epoch 20/30\n",
      "125/125 [==============================] - 172s 1s/step - loss: 1.8835 - accuracy: 0.9323 - val_loss: 2.1794 - val_accuracy: 0.8270\n",
      "Epoch 21/30\n",
      "125/125 [==============================] - 172s 1s/step - loss: 1.7717 - accuracy: 0.9370 - val_loss: 2.1431 - val_accuracy: 0.8232\n",
      "Epoch 22/30\n",
      "125/125 [==============================] - 172s 1s/step - loss: 1.6627 - accuracy: 0.9448 - val_loss: 2.0422 - val_accuracy: 0.8323\n",
      "Epoch 23/30\n",
      "125/125 [==============================] - 172s 1s/step - loss: 1.5550 - accuracy: 0.9463 - val_loss: 1.9706 - val_accuracy: 0.8308\n",
      "Epoch 24/30\n",
      "125/125 [==============================] - 172s 1s/step - loss: 1.4539 - accuracy: 0.9613 - val_loss: 1.8990 - val_accuracy: 0.8323\n",
      "Epoch 25/30\n",
      "125/125 [==============================] - 172s 1s/step - loss: 1.3691 - accuracy: 0.9617 - val_loss: 1.8996 - val_accuracy: 0.8247\n",
      "Epoch 26/30\n",
      "125/125 [==============================] - 172s 1s/step - loss: 1.2763 - accuracy: 0.9737 - val_loss: 1.8423 - val_accuracy: 0.8331\n",
      "Epoch 27/30\n",
      "125/125 [==============================] - 171s 1s/step - loss: 1.2089 - accuracy: 0.9732 - val_loss: 1.7988 - val_accuracy: 0.8201\n",
      "Epoch 28/30\n",
      "125/125 [==============================] - 171s 1s/step - loss: 1.1345 - accuracy: 0.9783 - val_loss: 1.7040 - val_accuracy: 0.8270\n",
      "Epoch 29/30\n",
      "125/125 [==============================] - 172s 1s/step - loss: 1.0672 - accuracy: 0.9797 - val_loss: 1.7203 - val_accuracy: 0.8255\n",
      "Epoch 30/30\n",
      "125/125 [==============================] - 171s 1s/step - loss: 0.9981 - accuracy: 0.9852 - val_loss: 1.6461 - val_accuracy: 0.8262\n"
     ]
    }
   ],
   "source": [
    "Batch_Size = 128\n",
    "steps_per_epoch = num_training // Batch_Size\n",
    "valid_steps = num_valid // Batch_Size\n",
    "history = model.fit(df_train,steps_per_epoch=steps_per_epoch, validation_data=df_valid, validation_steps=valid_steps, epochs=30)"
   ]
  },
  {
   "cell_type": "code",
   "execution_count": 25,
   "metadata": {
    "colab": {
     "base_uri": "https://localhost:8080/",
     "height": 316
    },
    "id": "uYR7xmStDZ8U",
    "outputId": "0eb02706-0799-43a9-f354-215d971464bb"
   },
   "outputs": [
    {
     "data": {
      "text/plain": [
       "<matplotlib.legend.Legend at 0x7f9ef9ca3610>"
      ]
     },
     "execution_count": 25,
     "metadata": {},
     "output_type": "execute_result"
    },
    {
     "data": {
      "image/png": "[encoded data removed]",
      "text/plain": [
       "<Figure size 432x288 with 1 Axes>"
      ]
     },
     "metadata": {},
     "output_type": "display_data"
    }
   ],
   "source": [
    "import matplotlib.pyplot as plt\n",
    "import numpy as np\n",
    "\n",
    "N = 30\n",
    "plt.style.use(\"ggplot\")\n",
    "plt.figure()\n",
    "plt.plot(np.arange(0, N), history.history[\"accuracy\"], label=\"Train Accuracy\")\n",
    "plt.plot(np.arange(0, N), history.history[\"val_accuracy\"], label=\"Validation Accuracy\")\n",
    "\n",
    "plt.title(\"Loss and Accuracy Plot\")\n",
    "plt.xlabel(\"Epoch\")\n",
    "plt.legend(bbox_to_anchor=(1.05, 1.0), loc='upper left')"
   ]
  },
  {
   "cell_type": "code",
   "execution_count": 26,
   "metadata": {
    "colab": {
     "base_uri": "https://localhost:8080/",
     "height": 316
    },
    "id": "CCiLfVHBDjPQ",
    "outputId": "9bfb7110-65b5-420d-dac8-a5eaa94da51c"
   },
   "outputs": [
    {
     "data": {
      "text/plain": [
       "<matplotlib.legend.Legend at 0x7f9ef9798750>"
      ]
     },
     "execution_count": 26,
     "metadata": {},
     "output_type": "execute_result"
    },
    {
     "data": {
      "image/png": "[encoded data removed]",
      "text/plain": [
       "<Figure size 432x288 with 1 Axes>"
      ]
     },
     "metadata": {},
     "output_type": "display_data"
    }
   ],
   "source": [
    "N = 30\n",
    "plt.style.use(\"ggplot\")\n",
    "plt.figure()\n",
    "plt.plot(np.arange(0, N), history.history[\"loss\"], label=\"Train Loss\")\n",
    "plt.plot(np.arange(0, N), history.history[\"val_loss\"], label=\"Validation Loss\")\n",
    "plt.title(\"Loss and Accuracy Plot\")\n",
    "plt.xlabel(\"Epoch\")\n",
    "plt.legend(bbox_to_anchor=(1.05, 1.0), loc='upper left')"
   ]
  }
 ],
 "metadata": {
  "accelerator": "GPU",
  "colab": {
   "collapsed_sections": [],
   "name": "ML_Final_presentation.ipynb",
   "provenance": []
  },
  "kernelspec": {
   "display_name": "Python 3",
   "language": "python",
   "name": "python3"
  },
  "language_info": {
   "codemirror_mode": {
    "name": "ipython",
    "version": 3
   },
   "file_extension": ".py",
   "mimetype": "text/x-python",
   "name": "python",
   "nbconvert_exporter": "python",
   "pygments_lexer": "ipython3",
   "version": "3.8.8"
  }
 },
 "nbformat": 4,
 "nbformat_minor": 1
}
